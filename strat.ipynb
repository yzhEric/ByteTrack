{
 "cells": [
  {
   "cell_type": "code",
   "execution_count": null,
   "metadata": {},
   "outputs": [],
   "source": [
    "!pip3 install -r requirements.txt\n",
    "!python3 setup.py develop"
   ]
  },
  {
   "cell_type": "code",
   "execution_count": null,
   "metadata": {},
   "outputs": [],
   "source": [
    "!pip3 install cython\n",
    "!pip3 install 'git+https://github.com/cocodataset/cocoapi.git#subdirectory=PythonAPI'"
   ]
  },
  {
   "cell_type": "code",
   "execution_count": null,
   "metadata": {},
   "outputs": [],
   "source": [
    "!pip3 install cython_bbox"
   ]
  },
  {
   "cell_type": "code",
   "execution_count": null,
   "metadata": {},
   "outputs": [],
   "source": [
    "!ln -s /gemini/code/datasets/mot/annotations ./datasets/mot/train/annotations"
   ]
  },
  {
   "cell_type": "code",
   "execution_count": null,
   "metadata": {},
   "outputs": [],
   "source": [
    "!python3 tools/train.py -f exps/example/mot/your_exp_file.py -d 1 -b 6 --fp16 -c pretrained/yolox_s.pth"
   ]
  },
  {
   "cell_type": "code",
   "execution_count": null,
   "metadata": {},
   "outputs": [],
   "source": [
    "!python3 tools/train.py -f exps/example/mot/your_exp_file.py -d 1 -b 15 --fp16 -c YOLOX_outputs/your_exp_file/latest_ckpt.pth.tar --resume -e 2"
   ]
  },
  {
   "cell_type": "code",
   "execution_count": 3,
   "metadata": {},
   "outputs": [
    {
     "name": "stdout",
     "output_type": "stream",
     "text": [
      "\u001b[32m2023-03-14 16:42:13.176\u001b[0m | \u001b[1mINFO    \u001b[0m | \u001b[36m__main__\u001b[0m:\u001b[36mmain\u001b[0m:\u001b[36m316\u001b[0m - \u001b[1mArgs: Namespace(aspect_ratio_thresh=1.6, camid=0, ckpt='YOLOX_outputs/your_exp_file/latest_ckpt.pth.tar', conf=None, demo='video', device=device(type='cuda'), exp_file='exps/example/mot/your_exp_file.py', experiment_name='your_exp_file', fp16=True, fps=30, fuse=True, match_thresh=0.8, min_box_area=10, mot20=False, name=None, nms=None, path='videos/demo.mp4', save_result=True, track_buffer=30, track_thresh=0.5, trt=False, tsize=None)\u001b[0m\n",
      "/usr/local/lib/python3.8/dist-packages/torch/functional.py:478: UserWarning: torch.meshgrid: in an upcoming release, it will be required to pass the indexing argument. (Triggered internally at  ../aten/src/ATen/native/TensorShape.cpp:2894.)\n",
      "  return _VF.meshgrid(tensors, **kwargs)  # type: ignore[attr-defined]\n",
      "\u001b[32m2023-03-14 16:42:19.699\u001b[0m | \u001b[1mINFO    \u001b[0m | \u001b[36m__main__\u001b[0m:\u001b[36mmain\u001b[0m:\u001b[36m326\u001b[0m - \u001b[1mModel Summary: Params: 99.00M, Gflops: 793.32\u001b[0m\n",
      "\u001b[32m2023-03-14 16:42:19.702\u001b[0m | \u001b[1mINFO    \u001b[0m | \u001b[36m__main__\u001b[0m:\u001b[36mmain\u001b[0m:\u001b[36m334\u001b[0m - \u001b[1mloading checkpoint\u001b[0m\n",
      "\u001b[32m2023-03-14 16:42:23.905\u001b[0m | \u001b[1mINFO    \u001b[0m | \u001b[36m__main__\u001b[0m:\u001b[36mmain\u001b[0m:\u001b[36m338\u001b[0m - \u001b[1mloaded checkpoint done.\u001b[0m\n",
      "\u001b[32m2023-03-14 16:42:23.906\u001b[0m | \u001b[1mINFO    \u001b[0m | \u001b[36m__main__\u001b[0m:\u001b[36mmain\u001b[0m:\u001b[36m341\u001b[0m - \u001b[1m\tFusing model...\u001b[0m\n",
      "/usr/local/lib/python3.8/dist-packages/torch/_tensor.py:1083: UserWarning: The .grad attribute of a Tensor that is not a leaf Tensor is being accessed. Its .grad attribute won't be populated during autograd.backward(). If you indeed want the .grad field to be populated for a non-leaf Tensor, use .retain_grad() on the non-leaf Tensor. If you access the non-leaf Tensor by mistake, make sure you access the leaf Tensor instead. See github.com/pytorch/pytorch/pull/30531 for more informations. (Triggered internally at  aten/src/ATen/core/TensorBody.h:477.)\n",
      "  return self._grad\n",
      "\u001b[32m2023-03-14 16:42:27.763\u001b[0m | \u001b[1mINFO    \u001b[0m | \u001b[36m__main__\u001b[0m:\u001b[36mimageflow_demo\u001b[0m:\u001b[36m248\u001b[0m - \u001b[1mvideo save_path is ./YOLOX_outputs/your_exp_file/track_vis/2023_03_14_16_42_27/demo.mp4\u001b[0m\n",
      "\u001b[32m2023-03-14 16:42:27.772\u001b[0m | \u001b[1mINFO    \u001b[0m | \u001b[36m__main__\u001b[0m:\u001b[36mimageflow_demo\u001b[0m:\u001b[36m258\u001b[0m - \u001b[1mProcessing frame 0 (100000.00 fps)\u001b[0m\n",
      "\u001b[32m2023-03-14 16:42:36.124\u001b[0m | \u001b[1mINFO    \u001b[0m | \u001b[36m__main__\u001b[0m:\u001b[36mimageflow_demo\u001b[0m:\u001b[36m258\u001b[0m - \u001b[1mProcessing frame 20 (4.09 fps)\u001b[0m\n",
      "\u001b[32m2023-03-14 16:42:41.093\u001b[0m | \u001b[1mINFO    \u001b[0m | \u001b[36m__main__\u001b[0m:\u001b[36mimageflow_demo\u001b[0m:\u001b[36m258\u001b[0m - \u001b[1mProcessing frame 40 (5.15 fps)\u001b[0m\n",
      "\u001b[32m2023-03-14 16:42:46.148\u001b[0m | \u001b[1mINFO    \u001b[0m | \u001b[36m__main__\u001b[0m:\u001b[36mimageflow_demo\u001b[0m:\u001b[36m258\u001b[0m - \u001b[1mProcessing frame 60 (5.54 fps)\u001b[0m\n",
      "\u001b[32m2023-03-14 16:42:50.896\u001b[0m | \u001b[1mINFO    \u001b[0m | \u001b[36m__main__\u001b[0m:\u001b[36mimageflow_demo\u001b[0m:\u001b[36m258\u001b[0m - \u001b[1mProcessing frame 80 (5.94 fps)\u001b[0m\n",
      "\u001b[32m2023-03-14 16:42:55.972\u001b[0m | \u001b[1mINFO    \u001b[0m | \u001b[36m__main__\u001b[0m:\u001b[36mimageflow_demo\u001b[0m:\u001b[36m258\u001b[0m - \u001b[1mProcessing frame 100 (6.08 fps)\u001b[0m\n",
      "\u001b[32m2023-03-14 16:43:00.752\u001b[0m | \u001b[1mINFO    \u001b[0m | \u001b[36m__main__\u001b[0m:\u001b[36mimageflow_demo\u001b[0m:\u001b[36m258\u001b[0m - \u001b[1mProcessing frame 120 (6.23 fps)\u001b[0m\n",
      "\u001b[32m2023-03-14 16:43:05.511\u001b[0m | \u001b[1mINFO    \u001b[0m | \u001b[36m__main__\u001b[0m:\u001b[36mimageflow_demo\u001b[0m:\u001b[36m258\u001b[0m - \u001b[1mProcessing frame 140 (6.38 fps)\u001b[0m\n",
      "\u001b[32m2023-03-14 16:43:10.220\u001b[0m | \u001b[1mINFO    \u001b[0m | \u001b[36m__main__\u001b[0m:\u001b[36mimageflow_demo\u001b[0m:\u001b[36m258\u001b[0m - \u001b[1mProcessing frame 160 (6.51 fps)\u001b[0m\n",
      "\u001b[32m2023-03-14 16:43:15.745\u001b[0m | \u001b[1mINFO    \u001b[0m | \u001b[36m__main__\u001b[0m:\u001b[36mimageflow_demo\u001b[0m:\u001b[36m258\u001b[0m - \u001b[1mProcessing frame 180 (6.41 fps)\u001b[0m\n",
      "\u001b[32m2023-03-14 16:43:20.869\u001b[0m | \u001b[1mINFO    \u001b[0m | \u001b[36m__main__\u001b[0m:\u001b[36mimageflow_demo\u001b[0m:\u001b[36m258\u001b[0m - \u001b[1mProcessing frame 200 (6.48 fps)\u001b[0m\n",
      "\u001b[32m2023-03-14 16:43:25.996\u001b[0m | \u001b[1mINFO    \u001b[0m | \u001b[36m__main__\u001b[0m:\u001b[36mimageflow_demo\u001b[0m:\u001b[36m258\u001b[0m - \u001b[1mProcessing frame 220 (6.48 fps)\u001b[0m\n",
      "\u001b[32m2023-03-14 16:43:29.525\u001b[0m | \u001b[1mINFO    \u001b[0m | \u001b[36m__main__\u001b[0m:\u001b[36mimageflow_demo\u001b[0m:\u001b[36m298\u001b[0m - \u001b[1msave results to ./YOLOX_outputs/your_exp_file/track_vis/2023_03_14_16_42_27.txt\u001b[0m\n"
     ]
    }
   ],
   "source": [
    "!python3 tools/demo_track.py video --path videos/demo.mp4 -f exps/example/mot/your_exp_file.py -c YOLOX_outputs/your_exp_file/latest_ckpt.pth.tar --fp16 --fuse --save_result"
   ]
  }
 ],
 "metadata": {
  "kernelspec": {
   "display_name": "Python 3 (ipykernel)",
   "language": "python",
   "name": "python3"
  },
  "language_info": {
   "codemirror_mode": {
    "name": "ipython",
    "version": 3
   },
   "file_extension": ".py",
   "mimetype": "text/x-python",
   "name": "python",
   "nbconvert_exporter": "python",
   "pygments_lexer": "ipython3",
   "version": "3.9.15"
  },
  "orig_nbformat": 4
 },
 "nbformat": 4,
 "nbformat_minor": 2
}
